{
  "nbformat": 4,
  "nbformat_minor": 0,
  "metadata": {
    "kernelspec": {
      "name": "python3",
      "display_name": "Python 3"
    },
    "language_info": {
      "codemirror_mode": {
        "name": "ipython",
        "version": 3
      },
      "file_extension": ".py",
      "mimetype": "text/x-python",
      "name": "python",
      "nbconvert_exporter": "python",
      "pygments_lexer": "ipython3",
      "version": "3.7.4"
    },
    "colab": {
      "name": "CNN.ipynb",
      "provenance": [],
      "collapsed_sections": []
    }
  },
  "cells": [
    {
      "cell_type": "markdown",
      "metadata": {
        "id": "gm1t78vLpyrU",
        "colab_type": "text"
      },
      "source": [
        "# # Retinopathy detection using SVM and CNN"
      ]
    },
    {
      "cell_type": "markdown",
      "metadata": {
        "id": "p5uv_z90Vycu",
        "colab_type": "text"
      },
      "source": [
        "We begin by importanting the different datasets we may need, such as pandas, sklearn, or keras. You can notice the importation of Augmentor. it's a library developped to artificillay generate new images by applying random transformation to our original dataset (https://augmentor.readthedocs.io/en/master/)"
      ]
    },
    {
      "cell_type": "code",
      "metadata": {
        "id": "18u9BO0beN8r",
        "colab_type": "code",
        "outputId": "fa7842af-7ed3-43cc-d5c1-db6b277091d4",
        "colab": {
          "base_uri": "https://localhost:8080/",
          "height": 379
        }
      },
      "source": [
        "!pip install Augmentor"
      ],
      "execution_count": 0,
      "outputs": [
        {
          "output_type": "stream",
          "text": [
            "Collecting Augmentor\n",
            "  Downloading https://files.pythonhosted.org/packages/e0/cd/088b7a425aadccbb0d142e40439e37fe69fbd71b67ef2ca27cb1bffcf682/Augmentor-0.2.7-py2.py3-none-any.whl\n",
            "Requirement already satisfied: future>=0.16.0 in /usr/local/lib/python3.6/dist-packages (from Augmentor) (0.16.0)\n",
            "Requirement already satisfied: tqdm>=4.9.0 in /usr/local/lib/python3.6/dist-packages (from Augmentor) (4.28.1)\n",
            "Collecting Pillow>=5.2.0\n",
            "\u001b[?25l  Downloading https://files.pythonhosted.org/packages/10/5c/0e94e689de2476c4c5e644a3bd223a1c1b9e2bdb7c510191750be74fa786/Pillow-6.2.1-cp36-cp36m-manylinux1_x86_64.whl (2.1MB)\n",
            "\u001b[K     |████████████████████████████████| 2.1MB 3.7MB/s \n",
            "\u001b[?25hRequirement already satisfied: numpy>=1.11.0 in /usr/local/lib/python3.6/dist-packages (from Augmentor) (1.17.4)\n",
            "\u001b[31mERROR: albumentations 0.1.12 has requirement imgaug<0.2.7,>=0.2.5, but you'll have imgaug 0.2.9 which is incompatible.\u001b[0m\n",
            "Installing collected packages: Pillow, Augmentor\n",
            "  Found existing installation: Pillow 4.3.0\n",
            "    Uninstalling Pillow-4.3.0:\n",
            "      Successfully uninstalled Pillow-4.3.0\n",
            "Successfully installed Augmentor-0.2.7 Pillow-6.2.1\n"
          ],
          "name": "stdout"
        },
        {
          "output_type": "display_data",
          "data": {
            "application/vnd.colab-display-data+json": {
              "pip_warning": {
                "packages": [
                  "PIL"
                ]
              }
            }
          },
          "metadata": {
            "tags": []
          }
        }
      ]
    },
    {
      "cell_type": "code",
      "metadata": {
        "scrolled": true,
        "id": "nqXtXLK1pysV",
        "colab_type": "code",
        "colab": {}
      },
      "source": [
        "import numpy as np\n",
        "import matplotlib.pyplot as plt\n",
        "import pandas as pd\n",
        "from PIL import Image\n",
        "import cv2\n",
        "import glob\n",
        "from keras.preprocessing.image import load_img\n",
        "from sklearn.model_selection import train_test_split, GridSearchCV\n",
        "from sklearn.metrics import classification_report, confusion_matrix\n",
        "from sklearn.utils import resample, shuffle\n",
        "from keras.models import Sequential\n",
        "from keras.layers import *\n",
        "from keras.optimizers import *\n",
        "from keras.utils import np_utils\n",
        "import matplotlib.pyplot as plt\n",
        "import seaborn as sns\n",
        "\n",
        "import pickle\n",
        "import Augmentor"
      ],
      "execution_count": 0,
      "outputs": []
    },
    {
      "cell_type": "code",
      "metadata": {
        "id": "CG7FW2IAqDf5",
        "colab_type": "code",
        "outputId": "ebbd85c0-9569-4486-c2c7-915be9436c26",
        "colab": {
          "base_uri": "https://localhost:8080/",
          "height": 127
        }
      },
      "source": [
        "#I connect this notebook to my Google Drive to access the different pictures\n",
        "import os\n",
        "from google.colab import drive\n",
        "drive.mount('/content/gdrive',force_remount=True)\n",
        "os.chdir('/content/gdrive/My Drive/fintech/fintech_DR')"
      ],
      "execution_count": 0,
      "outputs": [
        {
          "output_type": "stream",
          "text": [
            "Go to this URL in a browser: https://accounts.google.com/o/oauth2/auth?client_id=947318989803-6bn6qk8qdgf4n4g3pfee6491hc0brc4i.apps.googleusercontent.com&redirect_uri=urn%3aietf%3awg%3aoauth%3a2.0%3aoob&response_type=code&scope=email%20https%3a%2f%2fwww.googleapis.com%2fauth%2fdocs.test%20https%3a%2f%2fwww.googleapis.com%2fauth%2fdrive%20https%3a%2f%2fwww.googleapis.com%2fauth%2fdrive.photos.readonly%20https%3a%2f%2fwww.googleapis.com%2fauth%2fpeopleapi.readonly\n",
            "\n",
            "Enter your authorization code:\n",
            "··········\n",
            "Mounted at /content/gdrive\n"
          ],
          "name": "stdout"
        }
      ]
    },
    {
      "cell_type": "markdown",
      "metadata": {
        "id": "QWb1-bUAWqfl",
        "colab_type": "text"
      },
      "source": [
        "DATA PREPROCESSING :"
      ]
    },
    {
      "cell_type": "code",
      "metadata": {
        "id": "lm_e8A6xpysd",
        "colab_type": "code",
        "colab": {}
      },
      "source": [
        "with open('training_set.pkl', 'rb') as f:\n",
        "        training_set = pickle.load(f)\n",
        "with open('test_set.pkl', 'rb') as f:\n",
        "        test_set = pickle.load(f)\n",
        "training_set, val_set=train_test_split(training_set, test_size=0.05,stratify=training_set.label,random_state=42)"
      ],
      "execution_count": 0,
      "outputs": []
    },
    {
      "cell_type": "markdown",
      "metadata": {
        "id": "MiQx_rEhXP5o",
        "colab_type": "text"
      },
      "source": [
        "We notice here what will be the major challenge we will encounter : an unbalanced dataset. Here, we see that more tan 72% of our set is constitued of images of healthy people. "
      ]
    },
    {
      "cell_type": "code",
      "metadata": {
        "id": "2qKPB2L8pytP",
        "colab_type": "code",
        "outputId": "519dc5e9-3c9b-4a58-e06e-06ed263e2e80",
        "colab": {
          "base_uri": "https://localhost:8080/",
          "height": 125
        }
      },
      "source": [
        "training_set.label.value_counts()"
      ],
      "execution_count": 0,
      "outputs": [
        {
          "output_type": "execute_result",
          "data": {
            "text/plain": [
              "0    832\n",
              "2    174\n",
              "1     91\n",
              "3     27\n",
              "4     16\n",
              "Name: label, dtype: int64"
            ]
          },
          "metadata": {
            "tags": []
          },
          "execution_count": 7
        }
      ]
    },
    {
      "cell_type": "code",
      "metadata": {
        "id": "K3PTeuc2cDNx",
        "colab_type": "code",
        "outputId": "aebbbf96-bcce-43eb-97c0-0916094d6ee7",
        "colab": {
          "base_uri": "https://localhost:8080/",
          "height": 368
        }
      },
      "source": [
        "plt.figure(figsize = (10,5))\n",
        "sns.distplot(training_set['label'])\n",
        "plt.title(\"Distribution of DR levels in the training set\")"
      ],
      "execution_count": 0,
      "outputs": [
        {
          "output_type": "execute_result",
          "data": {
            "text/plain": [
              "Text(0.5, 1.0, 'Distribution of DR levels in the training set')"
            ]
          },
          "metadata": {
            "tags": []
          },
          "execution_count": 8
        },
        {
          "output_type": "display_data",
          "data": {
            "image/png": "[encoded data removed]",
            "text/plain": [
              "<Figure size 720x360 with 1 Axes>"
            ]
          },
          "metadata": {
            "tags": []
          }
        }
      ]
    },
    {
      "cell_type": "code",
      "metadata": {
        "id": "dKMJJluNpyth",
        "colab_type": "code",
        "colab": {}
      },
      "source": [
        "labels_train_0 = training_set[training_set.label==0]\n",
        "labels_train_1 = training_set[training_set.label==1]\n",
        "labels_train_2 = training_set[training_set.label==2]\n",
        "labels_train_3 = training_set[training_set.label==3]\n",
        "labels_train_4 = training_set[training_set.label==4]"
      ],
      "execution_count": 0,
      "outputs": []
    },
    {
      "cell_type": "markdown",
      "metadata": {
        "id": "j0PH78__g5pW",
        "colab_type": "text"
      },
      "source": [
        "We place the images corresponding to each level disease in a new folder."
      ]
    },
    {
      "cell_type": "code",
      "metadata": {
        "id": "S8oVGP6RpyvP",
        "colab_type": "code",
        "outputId": "66c81e09-6d70-494c-a55f-00fc0768999e",
        "colab": {
          "base_uri": "https://localhost:8080/",
          "height": 393
        }
      },
      "source": [
        "files=labels_train_0.filename\n",
        "for file in files:\n",
        "    img = load_img('images/'+file) # this is a PIL image\n",
        "    img.save(\"images/train/label_0/\"+file)\n",
        "files=labels_train_1.filename\n",
        "for file in files:\n",
        "    img = load_img('images/'+file) # this is a PIL image\n",
        "    img.save(\"images/train/label_1/\"+file)\n",
        "files=labels_train_2.filename\n",
        "for file in files:\n",
        "    img = load_img('images/'+file) # this is a PIL image\n",
        "    img.save(\"images/train/label_2/\"+file)\n",
        "files=labels_train_3.filename\n",
        "for file in files:\n",
        "    img = load_img('images/'+file) # this is a PIL image\n",
        "    img.save(\"images/train/label_3/\"+file)\n",
        "files=labels_train_4.filename\n",
        "for file in files:\n",
        "    img = load_img('images/'+file) # this is a PIL image\n",
        "    img.save(\"images/train/label_4/\"+file)"
      ],
      "execution_count": 0,
      "outputs": [
        {
          "output_type": "error",
          "ename": "OSError",
          "evalue": "ignored",
          "traceback": [
            "\u001b[0;31m---------------------------------------------------------------------------\u001b[0m",
            "\u001b[0;31mOSError\u001b[0m                                   Traceback (most recent call last)",
            "\u001b[0;32m<ipython-input-10-7199383d401c>\u001b[0m in \u001b[0;36m<module>\u001b[0;34m()\u001b[0m\n\u001b[1;32m      1\u001b[0m \u001b[0mfiles\u001b[0m\u001b[0;34m=\u001b[0m\u001b[0mlabels_train_0\u001b[0m\u001b[0;34m.\u001b[0m\u001b[0mfilename\u001b[0m\u001b[0;34m\u001b[0m\u001b[0;34m\u001b[0m\u001b[0m\n\u001b[1;32m      2\u001b[0m \u001b[0;32mfor\u001b[0m \u001b[0mfile\u001b[0m \u001b[0;32min\u001b[0m \u001b[0mfiles\u001b[0m\u001b[0;34m:\u001b[0m\u001b[0;34m\u001b[0m\u001b[0;34m\u001b[0m\u001b[0m\n\u001b[0;32m----> 3\u001b[0;31m     \u001b[0mimg\u001b[0m \u001b[0;34m=\u001b[0m \u001b[0mload_img\u001b[0m\u001b[0;34m(\u001b[0m\u001b[0;34m'images/'\u001b[0m\u001b[0;34m+\u001b[0m\u001b[0mfile\u001b[0m\u001b[0;34m)\u001b[0m \u001b[0;31m# this is a PIL image\u001b[0m\u001b[0;34m\u001b[0m\u001b[0;34m\u001b[0m\u001b[0m\n\u001b[0m\u001b[1;32m      4\u001b[0m     \u001b[0mimg\u001b[0m\u001b[0;34m.\u001b[0m\u001b[0msave\u001b[0m\u001b[0;34m(\u001b[0m\u001b[0;34m\"images/train/label_0/\"\u001b[0m\u001b[0;34m+\u001b[0m\u001b[0mfile\u001b[0m\u001b[0;34m)\u001b[0m\u001b[0;34m\u001b[0m\u001b[0;34m\u001b[0m\u001b[0m\n\u001b[1;32m      5\u001b[0m \u001b[0mfiles\u001b[0m\u001b[0;34m=\u001b[0m\u001b[0mlabels_train_1\u001b[0m\u001b[0;34m.\u001b[0m\u001b[0mfilename\u001b[0m\u001b[0;34m\u001b[0m\u001b[0;34m\u001b[0m\u001b[0m\n",
            "\u001b[0;32m/usr/local/lib/python3.6/dist-packages/keras_preprocessing/image/utils.py\u001b[0m in \u001b[0;36mload_img\u001b[0;34m(path, grayscale, color_mode, target_size, interpolation)\u001b[0m\n\u001b[1;32m    108\u001b[0m         raise ImportError('Could not import PIL.Image. '\n\u001b[1;32m    109\u001b[0m                           'The use of `load_img` requires PIL.')\n\u001b[0;32m--> 110\u001b[0;31m     \u001b[0mimg\u001b[0m \u001b[0;34m=\u001b[0m \u001b[0mpil_image\u001b[0m\u001b[0;34m.\u001b[0m\u001b[0mopen\u001b[0m\u001b[0;34m(\u001b[0m\u001b[0mpath\u001b[0m\u001b[0;34m)\u001b[0m\u001b[0;34m\u001b[0m\u001b[0;34m\u001b[0m\u001b[0m\n\u001b[0m\u001b[1;32m    111\u001b[0m     \u001b[0;32mif\u001b[0m \u001b[0mcolor_mode\u001b[0m \u001b[0;34m==\u001b[0m \u001b[0;34m'grayscale'\u001b[0m\u001b[0;34m:\u001b[0m\u001b[0;34m\u001b[0m\u001b[0;34m\u001b[0m\u001b[0m\n\u001b[1;32m    112\u001b[0m         \u001b[0;32mif\u001b[0m \u001b[0mimg\u001b[0m\u001b[0;34m.\u001b[0m\u001b[0mmode\u001b[0m \u001b[0;34m!=\u001b[0m \u001b[0;34m'L'\u001b[0m\u001b[0;34m:\u001b[0m\u001b[0;34m\u001b[0m\u001b[0;34m\u001b[0m\u001b[0m\n",
            "\u001b[0;32m/usr/local/lib/python3.6/dist-packages/PIL/Image.py\u001b[0m in \u001b[0;36mopen\u001b[0;34m(fp, mode)\u001b[0m\n\u001b[1;32m   2570\u001b[0m \u001b[0;34m\u001b[0m\u001b[0m\n\u001b[1;32m   2571\u001b[0m     \u001b[0;34m:\u001b[0m\u001b[0mparam\u001b[0m \u001b[0mmode\u001b[0m\u001b[0;34m:\u001b[0m \u001b[0mThe\u001b[0m \u001b[0mimage\u001b[0m \u001b[0mmode\u001b[0m\u001b[0;34m.\u001b[0m \u001b[0mSee\u001b[0m\u001b[0;34m:\u001b[0m \u001b[0;34m:\u001b[0m\u001b[0mref\u001b[0m\u001b[0;34m:\u001b[0m\u001b[0;31m`\u001b[0m\u001b[0mconcept\u001b[0m\u001b[0;34m-\u001b[0m\u001b[0mmodes\u001b[0m\u001b[0;31m`\u001b[0m\u001b[0;34m.\u001b[0m\u001b[0;34m\u001b[0m\u001b[0;34m\u001b[0m\u001b[0m\n\u001b[0;32m-> 2572\u001b[0;31m     \u001b[0;34m:\u001b[0m\u001b[0mparam\u001b[0m \u001b[0msize\u001b[0m\u001b[0;34m:\u001b[0m \u001b[0mThe\u001b[0m \u001b[0mimage\u001b[0m \u001b[0msize\u001b[0m\u001b[0;34m.\u001b[0m\u001b[0;34m\u001b[0m\u001b[0;34m\u001b[0m\u001b[0m\n\u001b[0m\u001b[1;32m   2573\u001b[0m     \u001b[0;34m:\u001b[0m\u001b[0mparam\u001b[0m \u001b[0mdata\u001b[0m\u001b[0;34m:\u001b[0m \u001b[0mA\u001b[0m \u001b[0mbytes\u001b[0m \u001b[0;32mor\u001b[0m \u001b[0mother\u001b[0m \u001b[0mbuffer\u001b[0m \u001b[0mobject\u001b[0m \u001b[0mcontaining\u001b[0m \u001b[0mraw\u001b[0m\u001b[0;34m\u001b[0m\u001b[0;34m\u001b[0m\u001b[0m\n\u001b[1;32m   2574\u001b[0m         \u001b[0mdata\u001b[0m \u001b[0;32mfor\u001b[0m \u001b[0mthe\u001b[0m \u001b[0mgiven\u001b[0m \u001b[0mmode\u001b[0m\u001b[0;34m.\u001b[0m\u001b[0;34m\u001b[0m\u001b[0;34m\u001b[0m\u001b[0m\n",
            "\u001b[0;31mOSError\u001b[0m: cannot identify image file 'images/18523_left.jpeg'"
          ]
        }
      ]
    },
    {
      "cell_type": "code",
      "metadata": {
        "id": "AafUYsYMpyvf",
        "colab_type": "code",
        "colab": {}
      },
      "source": [
        "p = Augmentor.Pipeline(\"images/train/label_1/\",output_directory=\"output\") \n",
        "p.flip_left_right(0.5) \n",
        "p.greyscale(0.1) \n",
        "p.rotate180(0.3) \n",
        "p.skew(0.4, 0.5) \n",
        "p.zoom(probability = 0.2, min_factor = 0.9, max_factor = 1.1) \n",
        "p.process()\n",
        "p.sample(741) "
      ],
      "execution_count": 0,
      "outputs": []
    },
    {
      "cell_type": "code",
      "metadata": {
        "id": "DbXJXAEXpyv-",
        "colab_type": "code",
        "colab": {}
      },
      "source": [
        "p = Augmentor.Pipeline(\"images/train/label_2/\",output_directory=\"output\") \n",
        "p.flip_left_right(0.5) \n",
        "p.greyscale(0.1) \n",
        "p.rotate180(0.3) \n",
        "p.skew(0.4, 0.5) \n",
        "p.zoom(probability = 0.2, min_factor = 0.9, max_factor = 1.1) \n",
        "p.process()\n",
        "p.sample(658) "
      ],
      "execution_count": 0,
      "outputs": []
    },
    {
      "cell_type": "code",
      "metadata": {
        "id": "TaUknLp_pywK",
        "colab_type": "code",
        "colab": {}
      },
      "source": [
        "p = Augmentor.Pipeline(\"images/train/label_3\",output_directory=\"output\") \n",
        "p.flip_left_right(0.5) \n",
        "p.greyscale(0.1) \n",
        "p.rotate180(0.3) \n",
        "p.skew(0.4, 0.5) \n",
        "p.zoom(probability = 0.2, min_factor = 0.9, max_factor = 1.1) \n",
        "p.process()\n",
        "p.sample(805) "
      ],
      "execution_count": 0,
      "outputs": []
    },
    {
      "cell_type": "code",
      "metadata": {
        "id": "WplE_j1wpywN",
        "colab_type": "code",
        "colab": {}
      },
      "source": [
        "p = Augmentor.Pipeline(\"images/train/label_4\",output_directory=\"output\") \n",
        "p.flip_left_right(0.5) \n",
        "p.greyscale(0.1) \n",
        "p.rotate180(0.3) \n",
        "p.skew(0.4, 0.5) \n",
        "p.zoom(probability = 0.2, min_factor = 0.9, max_factor = 1.1) \n",
        "p.process()\n",
        "p.sample(816) "
      ],
      "execution_count": 0,
      "outputs": []
    },
    {
      "cell_type": "code",
      "metadata": {
        "id": "fifIE6MCpywS",
        "colab_type": "code",
        "colab": {}
      },
      "source": [
        "files=test_set.filename\n",
        "for file in files:\n",
        "    img = load_img('images/'+file) # this is a PIL image\n",
        "    img.save(\"images/test/\"+file)"
      ],
      "execution_count": 0,
      "outputs": []
    },
    {
      "cell_type": "code",
      "metadata": {
        "id": "kEAiFjjppywt",
        "colab_type": "code",
        "colab": {}
      },
      "source": [
        "files=val_set.filename\n",
        "for file in files:\n",
        "    img = load_img('images/'+file) # this is a PIL image\n",
        "    img.save(\"images/val/\"+file)"
      ],
      "execution_count": 0,
      "outputs": []
    },
    {
      "cell_type": "code",
      "metadata": {
        "id": "qcFR_u4xpywX",
        "colab_type": "code",
        "outputId": "72f1485a-d1fd-46fe-cb75-6a4c80af225d",
        "colab": {
          "base_uri": "https://localhost:8080/",
          "height": 125
        }
      },
      "source": [
        "labels_val_0 = val_set[val_set.label==0]\n",
        "labels_val_1 = val_set[val_set.label==1]\n",
        "labels_val_2 = val_set[val_set.label==2]\n",
        "labels_val_3 = val_set[val_set.label==3]\n",
        "labels_val_4 = val_set[val_set.label==4]\n",
        "val_set.label.value_counts()"
      ],
      "execution_count": 0,
      "outputs": [
        {
          "output_type": "execute_result",
          "data": {
            "text/plain": [
              "0    44\n",
              "2     9\n",
              "1     5\n",
              "4     1\n",
              "3     1\n",
              "Name: label, dtype: int64"
            ]
          },
          "metadata": {
            "tags": []
          },
          "execution_count": 11
        }
      ]
    },
    {
      "cell_type": "code",
      "metadata": {
        "id": "-70s9uc2pywb",
        "colab_type": "code",
        "colab": {}
      },
      "source": [
        "files=labels_val_0.filename\n",
        "for file in files:\n",
        "    img = load_img('images/'+file) # this is a PIL image\n",
        "    img.save(\"images/val/label_0/\"+file)\n",
        "files=labels_val_1.filename\n",
        "for file in files:\n",
        "    img = load_img('images/'+file) # this is a PIL image\n",
        "    img.save(\"images/val/label_1/\"+file)\n",
        "files=labels_val_2.filename\n",
        "for file in files:\n",
        "    img = load_img('images/'+file) # this is a PIL image\n",
        "    img.save(\"images/val/label_2/\"+file)\n",
        "files=labels_val_3.filename\n",
        "for file in files:\n",
        "    img = load_img('images/'+file) # this is a PIL image\n",
        "    img.save(\"images/val/label_3/\"+file)\n",
        "files=labels_val_4.filename\n",
        "for file in files:\n",
        "    img = load_img('images/'+file) # this is a PIL image\n",
        "    img.save(\"images/val/label_4/\"+file)"
      ],
      "execution_count": 0,
      "outputs": []
    },
    {
      "cell_type": "code",
      "metadata": {
        "colab_type": "code",
        "id": "-jVMJtOWrRb7",
        "colab": {}
      },
      "source": [
        "#I first augmented the validation set also, but it increased the processing time of the CNN\n",
        "\"\"\"\n",
        "p = Augmentor.Pipeline(\"images/val/label_1/\",output_directory=\"output\") \n",
        "p.flip_left_right(0.5) \n",
        "p.greyscale(0.1) \n",
        "p.rotate180(0.3) \n",
        "p.skew(0.4, 0.5) \n",
        "p.zoom(probability = 0.2, min_factor = 0.9, max_factor = 1.1) \n",
        "p.process()\n",
        "p.sample(39) \n",
        "\n",
        "p = Augmentor.Pipeline(\"images/val/label_2/\",output_directory=\"output\") \n",
        "p.flip_left_right(0.5) \n",
        "p.greyscale(0.1) \n",
        "p.rotate180(0.3) \n",
        "p.skew(0.4, 0.5) \n",
        "p.zoom(probability = 0.2, min_factor = 0.9, max_factor = 1.1) \n",
        "p.process()\n",
        "p.sample(35) \n",
        "\n",
        "p = Augmentor.Pipeline(\"images/val/label_3/\",output_directory=\"output\") \n",
        "p.flip_left_right(0.5) \n",
        "p.greyscale(0.1) \n",
        "p.rotate180(0.3) \n",
        "p.skew(0.4, 0.5) \n",
        "p.zoom(probability = 0.2, min_factor = 0.9, max_factor = 1.1) \n",
        "p.process()\n",
        "p.sample(43) \n",
        "\n",
        "p = Augmentor.Pipeline(\"images/val/label_4/\",output_directory=\"output\") \n",
        "p.flip_left_right(0.5) \n",
        "p.greyscale(0.1) \n",
        "p.rotate180(0.3) \n",
        "p.skew(0.4, 0.5) \n",
        "p.zoom(probability = 0.2, min_factor = 0.9, max_factor = 1.1) \n",
        "p.process()\n",
        "p.sample(43) \n",
        "\"\"\""
      ],
      "execution_count": 0,
      "outputs": []
    },
    {
      "cell_type": "code",
      "metadata": {
        "id": "B1mzNtU8pywx",
        "colab_type": "code",
        "colab": {}
      },
      "source": [
        "#creation of a numpy array gathering all the images of the augmented training set\n",
        "train=[]\n",
        "train_labels=[]\n",
        "for myFile in glob.glob(\"images/train/label_0/*.jpeg\"):\n",
        "    image = cv2.imread (myFile)\n",
        "    image = cv2.resize(image,(300,300))\n",
        "    train.append(image)\n",
        "    train_labels.append(0)\n",
        "for myFile in glob.glob(\"images/train/label_1/output/*.jpeg\"):\n",
        "    image = cv2.imread (myFile)\n",
        "    image = cv2.resize(image,(300,300))\n",
        "    train.append(image)\n",
        "    train_labels.append(1)\n",
        "for myFile in glob.glob(\"images/train/label_2/output/*.jpeg\"):\n",
        "    image = cv2.imread (myFile)\n",
        "    image = cv2.resize(image,(300,300))\n",
        "    train.append(image)\n",
        "    train_labels.append(2)\n",
        "for myFile in glob.glob(\"images/train/label_3/output/*.jpeg\"):\n",
        "    image = cv2.imread (myFile)\n",
        "    image = cv2.resize(image,(300,300))\n",
        "    train.append(image)\n",
        "    train_labels.append(3)\n",
        "for myFile in glob.glob(\"images/train/label_4/output/*.jpeg\"):\n",
        "    image = cv2.imread (myFile)\n",
        "    image = cv2.resize(image,(300,300))\n",
        "    train.append(image)\n",
        "    train_labels.append(4)"
      ],
      "execution_count": 0,
      "outputs": []
    },
    {
      "cell_type": "code",
      "metadata": {
        "id": "0KaItge2pyw9",
        "colab_type": "code",
        "outputId": "9aad7dba-1b28-4ef1-dc8c-1c247356b8bf",
        "colab": {
          "base_uri": "https://localhost:8080/",
          "height": 35
        }
      },
      "source": [
        "len(train)"
      ],
      "execution_count": 0,
      "outputs": [
        {
          "output_type": "execute_result",
          "data": {
            "text/plain": [
              "4160"
            ]
          },
          "metadata": {
            "tags": []
          },
          "execution_count": 13
        }
      ]
    },
    {
      "cell_type": "code",
      "metadata": {
        "id": "CmCMAYDIpyxE",
        "colab_type": "code",
        "colab": {}
      },
      "source": [
        "#we also create a numpy array with the images of the testing set, and their corresponding labels\n",
        "test_labels = []\n",
        "test=[]\n",
        "files_0 = test_set[test_set.label==0].filename\n",
        "files_1 = test_set[test_set.label==1].filename\n",
        "files_2 = test_set[test_set.label==2].filename\n",
        "files_3 = test_set[test_set.label==3].filename\n",
        "files_4 = test_set[test_set.label==4].filename\n",
        "for myFile in files_0:\n",
        "    image = cv2.imread (\"images/test/\"+myFile)\n",
        "    image = cv2.resize(image,(300,300))\n",
        "    test.append(image)\n",
        "    test_labels.append(0)\n",
        "for myFile in files_1:\n",
        "    image = cv2.imread (\"images/test/\"+myFile)\n",
        "    image = cv2.resize(image,(300,300))\n",
        "    test.append(image)\n",
        "    test_labels.append(1)\n",
        "for myFile in files_2:\n",
        "    image = cv2.imread (\"images/test/\"+myFile)\n",
        "    image = cv2.resize(image,(300,300))\n",
        "    test.append(image)\n",
        "    test_labels.append(2)\n",
        "for myFile in files_3:\n",
        "    image = cv2.imread (\"images/test/\"+myFile)\n",
        "    image = cv2.resize(image,(300,300))\n",
        "    test.append(image)\n",
        "    test_labels.append(3)\n",
        "for myFile in files_4:\n",
        "    image = cv2.imread (\"images/test/\"+myFile)\n",
        "    image = cv2.resize(image,(300,300))\n",
        "    test.append(image)\n",
        "    test_labels.append(4)"
      ],
      "execution_count": 0,
      "outputs": []
    },
    {
      "cell_type": "code",
      "metadata": {
        "id": "cmxlzVeOpyxH",
        "colab_type": "code",
        "colab": {}
      },
      "source": [
        "#same for the validation set\n",
        "val_labels = []\n",
        "val=[]\n",
        "for myFile in glob.glob(\"images/val/label_0/*.jpeg\"):\n",
        "    image = cv2.imread (myFile)\n",
        "    image = cv2.resize(image,(300,300))\n",
        "    val.append(image)\n",
        "    val_labels.append(0)\n",
        "for myFile in glob.glob(\"images/val/label_1/*.jpeg\"):\n",
        "    image = cv2.imread (myFile)\n",
        "    image = cv2.resize(image,(300,300))\n",
        "    val.append(image)\n",
        "    val_labels.append(1)\n",
        "for myFile in glob.glob(\"images/val/label_2/*.jpeg\"):\n",
        "    image = cv2.imread (myFile)\n",
        "    image = cv2.resize(image,(300,300))\n",
        "    val.append(image)\n",
        "    val_labels.append(2)\n",
        "for myFile in glob.glob(\"images/val/label_3/*.jpeg\"):\n",
        "    image = cv2.imread (myFile)\n",
        "    image = cv2.resize(image,(300,300))\n",
        "    val.append(image)\n",
        "    val_labels.append(3)\n",
        "for myFile in glob.glob(\"images/val/label_4/*.jpeg\"):\n",
        "    image = cv2.imread (myFile)\n",
        "    image = cv2.resize(image,(300,300))\n",
        "    val.append(image)\n",
        "    val_labels.append(4)"
      ],
      "execution_count": 0,
      "outputs": []
    },
    {
      "cell_type": "markdown",
      "metadata": {
        "id": "xPeKU1EEsIJ9",
        "colab_type": "text"
      },
      "source": [
        "## MODEL TRAINING :\n",
        "Now we fit a convolutional neural network model on the images."
      ]
    },
    {
      "cell_type": "code",
      "metadata": {
        "id": "6PJaYVZdpyxN",
        "colab_type": "code",
        "colab": {}
      },
      "source": [
        "num = 5\n",
        "epochs = 10\n",
        "bs = 32"
      ],
      "execution_count": 0,
      "outputs": []
    },
    {
      "cell_type": "code",
      "metadata": {
        "id": "B-f2Y71-pyxR",
        "colab_type": "code",
        "colab": {}
      },
      "source": [
        "# transform the label into categorical values\n",
        "val_labels=np_utils.to_categorical(val_labels,num)\n",
        "train_labels=np_utils.to_categorical(train_labels,num)\n",
        "val=np.array(val)\n",
        "train=np.array(train)"
      ],
      "execution_count": 0,
      "outputs": []
    },
    {
      "cell_type": "code",
      "metadata": {
        "id": "Xk4z_YYhvHfD",
        "colab_type": "code",
        "colab": {}
      },
      "source": [
        "import tensorflow as tf\n",
        "\n",
        "def kappa_loss(y_pred, y_true, y_pow=2, eps=1e-10, N=5, bsize=256, name='kappa'):\n",
        "    \"\"\"A continuous differentiable approximation of discrete kappa loss.\n",
        "        Args:\n",
        "            y_pred: 2D tensor or array, [batch_size, num_classes]\n",
        "            y_true: 2D tensor or array,[batch_size, num_classes]\n",
        "            y_pow: int,  e.g. y_pow=2\n",
        "            N: typically num_classes of the model\n",
        "            bsize: batch_size of the training or validation ops\n",
        "            eps: a float, prevents divide by zero\n",
        "            name: Optional scope/name for op_scope.\n",
        "        Returns:\n",
        "            A tensor with the kappa loss.\"\"\"\n",
        "\n",
        "    with tf.name_scope(name):\n",
        "        y_true = tf.to_float(y_true)\n",
        "        repeat_op = tf.to_float(tf.tile(tf.reshape(tf.range(0, N), [N, 1]), [1, N]))\n",
        "        repeat_op_sq = tf.square((repeat_op - tf.transpose(repeat_op)))\n",
        "        weights = repeat_op_sq / tf.to_float((N - 1) ** 2)\n",
        "    \n",
        "        pred_ = y_pred ** y_pow\n",
        "        try:\n",
        "            pred_norm = pred_ / (eps + tf.reshape(tf.reduce_sum(pred_, 1), [-1, 1]))\n",
        "        except Exception:\n",
        "            pred_norm = pred_ / (eps + tf.reshape(tf.reduce_sum(pred_, 1), [bsize, 1]))\n",
        "            \n",
        "        hist_rater_a = tf.reduce_sum(pred_norm, 0)\n",
        "        hist_rater_b = tf.reduce_sum(y_true, 0)\n",
        "    \n",
        "        conf_mat = tf.matmul(tf.transpose(pred_norm), y_true)\n",
        "    \n",
        "        nom = tf.reduce_sum(weights * conf_mat)\n",
        "        denom = tf.reduce_sum(weights * tf.matmul(\n",
        "            tf.reshape(hist_rater_a, [N, 1]), tf.reshape(hist_rater_b, [1, N])) /\n",
        "                              tf.to_float(bsize))\n",
        "    \n",
        "        return nom / (denom + eps)"
      ],
      "execution_count": 0,
      "outputs": []
    },
    {
      "cell_type": "code",
      "metadata": {
        "id": "pm2P92cppyxa",
        "colab_type": "code",
        "outputId": "ec582a22-e4ec-45f1-d41b-c215ab217d2f",
        "colab": {
          "base_uri": "https://localhost:8080/",
          "height": 631
        }
      },
      "source": [
        "#CNN\n",
        "model = Sequential()\n",
        "model.add(Conv2D(32, (3,3), padding='same', activation='relu', input_shape = (300,300,3)))\n",
        "model.add(Conv2D(32,(3,3), padding='same', activation='relu'))\n",
        "model.add(MaxPooling2D(pool_size=(2,2)))\n",
        "model.add(BatchNormalization())\n",
        "\n",
        "model.add(Conv2D(64,(3,3), padding='same', activation='relu'))\n",
        "model.add(Conv2D(64,(3,3), padding='same', activation='relu'))\n",
        "model.add(MaxPooling2D(pool_size=(2,2)))\n",
        "model.add(BatchNormalization())\n",
        "    \n",
        "model.add(Conv2D(128, (3, 3), padding='same', activation='relu'))\n",
        "model.add(Conv2D(128, (3, 3), padding='same', activation='relu'))\n",
        "model.add(MaxPooling2D(pool_size=(2, 2)))\n",
        "model.add(BatchNormalization())\n",
        "\n",
        "model.add(Conv2D(256, (3, 3), padding='same', activation='relu'))\n",
        "model.add(Conv2D(256, (3, 3), padding='same', activation='relu'))\n",
        "model.add(MaxPooling2D(pool_size=(2, 2)))\n",
        "model.add(BatchNormalization())\n",
        "\n",
        "model.add(Conv2D(512, (3, 3), padding='same', activation='relu'))\n",
        "model.add(Conv2D(512, (3, 3), padding='same', activation='relu'))\n",
        "model.add(MaxPooling2D(pool_size=(2, 2)))\n",
        "model.add(BatchNormalization())\n",
        "\n",
        "model.add(Conv2D(1024, (3, 3), padding='same', activation='relu'))\n",
        "model.add(Conv2D(1024, (3, 3), padding='same', activation='relu'))\n",
        "model.add(MaxPooling2D(pool_size=(2, 2)))\n",
        "model.add(BatchNormalization())\n",
        "    \n",
        "model.add(Flatten())\n",
        "model.add(Dropout(0.5))\n",
        "model.add(Dense(512, activation='relu'))\n",
        "model.add(Dense(output_dim= num, activation='softmax'))\n",
        "model.compile(optimizer=adam(lr=0.0001),loss=kappa_loss, metrics=[\"accuracy\"])\n",
        "\n",
        "    "
      ],
      "execution_count": 0,
      "outputs": [
        {
          "output_type": "stream",
          "text": [
            "WARNING:tensorflow:From /usr/local/lib/python3.6/dist-packages/keras/backend/tensorflow_backend.py:66: The name tf.get_default_graph is deprecated. Please use tf.compat.v1.get_default_graph instead.\n",
            "\n",
            "WARNING:tensorflow:From /usr/local/lib/python3.6/dist-packages/keras/backend/tensorflow_backend.py:541: The name tf.placeholder is deprecated. Please use tf.compat.v1.placeholder instead.\n",
            "\n",
            "WARNING:tensorflow:From /usr/local/lib/python3.6/dist-packages/keras/backend/tensorflow_backend.py:4432: The name tf.random_uniform is deprecated. Please use tf.random.uniform instead.\n",
            "\n",
            "WARNING:tensorflow:From /usr/local/lib/python3.6/dist-packages/keras/backend/tensorflow_backend.py:4267: The name tf.nn.max_pool is deprecated. Please use tf.nn.max_pool2d instead.\n",
            "\n",
            "WARNING:tensorflow:From /usr/local/lib/python3.6/dist-packages/keras/backend/tensorflow_backend.py:190: The name tf.get_default_session is deprecated. Please use tf.compat.v1.get_default_session instead.\n",
            "\n",
            "WARNING:tensorflow:From /usr/local/lib/python3.6/dist-packages/keras/backend/tensorflow_backend.py:197: The name tf.ConfigProto is deprecated. Please use tf.compat.v1.ConfigProto instead.\n",
            "\n",
            "WARNING:tensorflow:From /usr/local/lib/python3.6/dist-packages/keras/backend/tensorflow_backend.py:203: The name tf.Session is deprecated. Please use tf.compat.v1.Session instead.\n",
            "\n",
            "WARNING:tensorflow:From /usr/local/lib/python3.6/dist-packages/keras/backend/tensorflow_backend.py:207: The name tf.global_variables is deprecated. Please use tf.compat.v1.global_variables instead.\n",
            "\n",
            "WARNING:tensorflow:From /usr/local/lib/python3.6/dist-packages/keras/backend/tensorflow_backend.py:216: The name tf.is_variable_initialized is deprecated. Please use tf.compat.v1.is_variable_initialized instead.\n",
            "\n",
            "WARNING:tensorflow:From /usr/local/lib/python3.6/dist-packages/keras/backend/tensorflow_backend.py:223: The name tf.variables_initializer is deprecated. Please use tf.compat.v1.variables_initializer instead.\n",
            "\n",
            "WARNING:tensorflow:From /usr/local/lib/python3.6/dist-packages/keras/backend/tensorflow_backend.py:2041: The name tf.nn.fused_batch_norm is deprecated. Please use tf.compat.v1.nn.fused_batch_norm instead.\n",
            "\n",
            "WARNING:tensorflow:From /usr/local/lib/python3.6/dist-packages/keras/backend/tensorflow_backend.py:148: The name tf.placeholder_with_default is deprecated. Please use tf.compat.v1.placeholder_with_default instead.\n",
            "\n",
            "WARNING:tensorflow:From /usr/local/lib/python3.6/dist-packages/keras/backend/tensorflow_backend.py:3733: calling dropout (from tensorflow.python.ops.nn_ops) with keep_prob is deprecated and will be removed in a future version.\n",
            "Instructions for updating:\n",
            "Please use `rate` instead of `keep_prob`. Rate should be set to `rate = 1 - keep_prob`.\n",
            "WARNING:tensorflow:From /usr/local/lib/python3.6/dist-packages/keras/optimizers.py:793: The name tf.train.Optimizer is deprecated. Please use tf.compat.v1.train.Optimizer instead.\n",
            "\n",
            "WARNING:tensorflow:From <ipython-input-18-b3bafe7964ec>:17: to_float (from tensorflow.python.ops.math_ops) is deprecated and will be removed in a future version.\n",
            "Instructions for updating:\n",
            "Use `tf.cast` instead.\n"
          ],
          "name": "stdout"
        },
        {
          "output_type": "stream",
          "text": [
            "/usr/local/lib/python3.6/dist-packages/ipykernel_launcher.py:35: UserWarning: Update your `Dense` call to the Keras 2 API: `Dense(activation=\"softmax\", units=5)`\n"
          ],
          "name": "stderr"
        }
      ]
    },
    {
      "cell_type": "code",
      "metadata": {
        "scrolled": false,
        "id": "2L3W1tEWpyxb",
        "colab_type": "code",
        "outputId": "04b0bb96-519f-4a5e-87fb-41701aea8f1b",
        "colab": {
          "base_uri": "https://localhost:8080/",
          "height": 199
        }
      },
      "source": [
        "H = model.fit(train,train_labels,batch_size=bs,\n",
        "                        validation_data=(val,val_labels),\n",
        "                        epochs=epochs)"
      ],
      "execution_count": 0,
      "outputs": [
        {
          "output_type": "stream",
          "text": [
            "WARNING:tensorflow:From /usr/local/lib/python3.6/dist-packages/keras/backend/tensorflow_backend.py:1033: The name tf.assign_add is deprecated. Please use tf.compat.v1.assign_add instead.\n",
            "\n",
            "WARNING:tensorflow:From /usr/local/lib/python3.6/dist-packages/keras/backend/tensorflow_backend.py:1020: The name tf.assign is deprecated. Please use tf.compat.v1.assign instead.\n",
            "\n",
            "Train on 4160 samples, validate on 60 samples\n",
            "Epoch 1/10\n",
            "4160/4160 [==============================] - 4408s 1s/step - loss: 5.8921 - acc: 0.2702 - val_loss: 7.7701 - val_acc: 0.5667\n",
            "Epoch 2/10\n",
            " 128/4160 [..............................] - ETA: 1:11:03 - loss: 6.7484 - acc: 0.2188"
          ],
          "name": "stdout"
        }
      ]
    },
    {
      "cell_type": "markdown",
      "metadata": {
        "id": "6_e0B0cRsELS",
        "colab_type": "text"
      },
      "source": [
        "RESULTS :"
      ]
    },
    {
      "cell_type": "code",
      "metadata": {
        "id": "tMYN3b78pyxe",
        "colab_type": "code",
        "colab": {}
      },
      "source": [
        "model.save_weights('images/first_model_last.h5')\n",
        "test=np.array(test)\n",
        "y_pred=model.predict_classes(test)"
      ],
      "execution_count": 0,
      "outputs": []
    },
    {
      "cell_type": "code",
      "metadata": {
        "scrolled": true,
        "id": "rWhbPlNEpyxh",
        "colab_type": "code",
        "colab": {}
      },
      "source": [
        "#confusion matrix\n",
        "\n",
        "print(confusion_matrix(test_labels,y_pred))"
      ],
      "execution_count": 0,
      "outputs": []
    },
    {
      "cell_type": "code",
      "metadata": {
        "id": "MwqDhkZ_pyxm",
        "colab_type": "code",
        "colab": {}
      },
      "source": [
        "#classification report\n",
        "\n",
        "print(classification_report(test_labels,y_pred))"
      ],
      "execution_count": 0,
      "outputs": []
    }
  ]
}